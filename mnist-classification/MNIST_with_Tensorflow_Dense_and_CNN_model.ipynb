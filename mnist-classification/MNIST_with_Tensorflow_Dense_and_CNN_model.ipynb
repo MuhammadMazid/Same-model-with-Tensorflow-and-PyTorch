{
  "nbformat": 4,
  "nbformat_minor": 0,
  "metadata": {
    "colab": {
      "provenance": []
    },
    "kernelspec": {
      "name": "python3",
      "display_name": "Python 3"
    },
    "language_info": {
      "name": "python"
    }
  },
  "cells": [
    {
      "cell_type": "code",
      "execution_count": null,
      "metadata": {
        "id": "QPNkOytS4E9K"
      },
      "outputs": [],
      "source": [
        "import numpy as np\n",
        "\n",
        "from matplotlib import pyplot as plt"
      ]
    },
    {
      "cell_type": "code",
      "source": [
        "from keras.datasets import mnist\n",
        "(x_train, y_train), (x_test, y_test) = mnist.load_data()"
      ],
      "metadata": {
        "id": "ZArpqsGr4m4r"
      },
      "execution_count": null,
      "outputs": []
    },
    {
      "cell_type": "code",
      "source": [
        "print(x_train.shape, y_train.shape, x_test.shape, y_test.shape)"
      ],
      "metadata": {
        "colab": {
          "base_uri": "https://localhost:8080/"
        },
        "id": "2-MwABe_4u2f",
        "outputId": "629e5311-5c67-4db9-fb73-659733e42687"
      },
      "execution_count": null,
      "outputs": [
        {
          "output_type": "stream",
          "name": "stdout",
          "text": [
            "(60000, 28, 28) (60000,) (10000, 28, 28) (10000,)\n"
          ]
        }
      ]
    },
    {
      "cell_type": "code",
      "source": [
        "for index in range(10):\n",
        "  plt.subplot(2, 5, index + 1)\n",
        "\n",
        "  for i in np.random.randint(m, size=10):\n",
        "    plt.imshow(x_train[:,i].reshape(28,28),cmap= 'gray')\n",
        "    plt.title(y_train[i])\n",
        "\n",
        "plt.show()"
      ],
      "metadata": {
        "colab": {
          "base_uri": "https://localhost:8080/",
          "height": 370
        },
        "id": "-pXX-8bJ-N11",
        "outputId": "726ea885-1361-40af-f771-11184f14c9cf"
      },
      "execution_count": null,
      "outputs": [
        {
          "output_type": "display_data",
          "data": {
            "text/plain": [
              "<Figure size 640x480 with 10 Axes>"
            ],
            "image/png": "[encoded data removed]"
          },
          "metadata": {}
        }
      ]
    },
    {
      "cell_type": "markdown",
      "source": [
        "Keras Dense layer"
      ],
      "metadata": {
        "id": "wrACDunmRLQ8"
      }
    },
    {
      "cell_type": "code",
      "source": [
        "from keras.datasets import mnist\n",
        "(x_train, y_train), (x_test, y_test) = mnist.load_data()\n",
        "print(x_train.shape, y_train.shape, x_test.shape, y_test.shape)"
      ],
      "metadata": {
        "colab": {
          "base_uri": "https://localhost:8080/"
        },
        "id": "mQrWadQ1KoYj",
        "outputId": "8e975630-13e5-455b-9606-34204bd5d2a8"
      },
      "execution_count": null,
      "outputs": [
        {
          "output_type": "stream",
          "name": "stdout",
          "text": [
            "(60000, 28, 28) (60000,) (10000, 28, 28) (10000,)\n"
          ]
        }
      ]
    },
    {
      "cell_type": "code",
      "source": [
        "l,m,n = x_train.shape\n",
        "o,p,q = x_test.shape\n",
        "\n",
        "x_train = x_train.reshape(l, m*n) / 255\n",
        "x_test = x_test.reshape(o, p*q) / 255\n",
        "\n",
        "def one_hot(Y):\n",
        "    one_hot_Y = np.zeros((Y.size, Y.max() + 1))\n",
        "    one_hot_Y[np.arange(Y.size), Y] = 1\n",
        "    return one_hot_Y\n",
        "\n",
        "y_train = one_hot(y_train)\n",
        "y_test = one_hot(y_test)\n",
        "\n",
        "\n",
        "print(x_train.shape, y_train.shape, x_test.shape, y_test.shape)\n"
      ],
      "metadata": {
        "colab": {
          "base_uri": "https://localhost:8080/"
        },
        "id": "wPJw28ijKoQo",
        "outputId": "ddf1674e-8ce3-42ad-eaa1-05964cdb9702"
      },
      "execution_count": null,
      "outputs": [
        {
          "output_type": "stream",
          "name": "stdout",
          "text": [
            "(60000, 784) (60000, 10) (10000, 784) (10000, 10)\n"
          ]
        }
      ]
    },
    {
      "cell_type": "code",
      "source": [
        "# first neural network with keras tutorial\n",
        "from numpy import loadtxt\n",
        "from tensorflow.keras.models import Sequential\n",
        "from tensorflow.keras.layers import Dense\n",
        "\n",
        "# define the keras model\n",
        "model = Sequential()\n",
        "model.add(Dense(128, input_shape=(28*28,), activation='relu'))\n",
        "model.add(Dense(64, activation='relu'))\n",
        "model.add(Dense(10, activation='softmax'))\n",
        "# compile the keras model\n",
        "model.compile(loss='categorical_crossentropy', optimizer='adam', metrics=['accuracy'])\n",
        "# fit the keras model on the dataset\n",
        "model.fit(x_train, y_train, epochs=15, batch_size=128)\n",
        "# evaluate the keras model\n",
        "score = model.evaluate(x_test, y_test, verbose=0)\n",
        "print(\"Test loss:\", score[0])\n",
        "print(\"Test accuracy:\", score[1])"
      ],
      "metadata": {
        "colab": {
          "base_uri": "https://localhost:8080/"
        },
        "id": "_S8y5jIiK9T-",
        "outputId": "b28692fb-cbd2-4849-8b44-7d0739665800"
      },
      "execution_count": null,
      "outputs": [
        {
          "output_type": "stream",
          "name": "stdout",
          "text": [
            "Epoch 1/15\n",
            "469/469 [==============================] - 5s 5ms/step - loss: 0.3319 - accuracy: 0.9072\n",
            "Epoch 2/15\n",
            "469/469 [==============================] - 4s 8ms/step - loss: 0.1349 - accuracy: 0.9604\n",
            "Epoch 3/15\n",
            "469/469 [==============================] - 3s 6ms/step - loss: 0.0938 - accuracy: 0.9717\n",
            "Epoch 4/15\n",
            "469/469 [==============================] - 3s 6ms/step - loss: 0.0714 - accuracy: 0.9788\n",
            "Epoch 5/15\n",
            "469/469 [==============================] - 3s 7ms/step - loss: 0.0547 - accuracy: 0.9837\n",
            "Epoch 6/15\n",
            "469/469 [==============================] - 3s 7ms/step - loss: 0.0455 - accuracy: 0.9862\n",
            "Epoch 7/15\n",
            "469/469 [==============================] - 3s 7ms/step - loss: 0.0395 - accuracy: 0.9873\n",
            "Epoch 8/15\n",
            "469/469 [==============================] - 3s 6ms/step - loss: 0.0310 - accuracy: 0.9904\n",
            "Epoch 9/15\n",
            "469/469 [==============================] - 3s 6ms/step - loss: 0.0240 - accuracy: 0.9928\n",
            "Epoch 10/15\n",
            "469/469 [==============================] - 3s 6ms/step - loss: 0.0216 - accuracy: 0.9932\n",
            "Epoch 11/15\n",
            "469/469 [==============================] - 4s 8ms/step - loss: 0.0193 - accuracy: 0.9939\n",
            "Epoch 12/15\n",
            "469/469 [==============================] - 3s 6ms/step - loss: 0.0156 - accuracy: 0.9952\n",
            "Epoch 13/15\n",
            "469/469 [==============================] - 2s 5ms/step - loss: 0.0124 - accuracy: 0.9965\n",
            "Epoch 14/15\n",
            "469/469 [==============================] - 3s 6ms/step - loss: 0.0154 - accuracy: 0.9950\n",
            "Epoch 15/15\n",
            "469/469 [==============================] - 3s 7ms/step - loss: 0.0133 - accuracy: 0.9955\n",
            "Test loss: 0.09133658558130264\n",
            "Test accuracy: 0.9779000282287598\n"
          ]
        }
      ]
    },
    {
      "cell_type": "code",
      "source": [],
      "metadata": {
        "id": "mrBVRd55RXrQ"
      },
      "execution_count": null,
      "outputs": []
    },
    {
      "cell_type": "markdown",
      "source": [
        "with keras CNN"
      ],
      "metadata": {
        "id": "If9u3ZAjRYHV"
      }
    },
    {
      "cell_type": "code",
      "source": [
        "from tensorflow import keras\n",
        "from tensorflow.keras import layers"
      ],
      "metadata": {
        "id": "X4H0P0XIId88"
      },
      "execution_count": null,
      "outputs": []
    },
    {
      "cell_type": "code",
      "source": [
        "from keras.datasets import mnist\n",
        "(x_train, y_train), (x_test, y_test) = mnist.load_data()"
      ],
      "metadata": {
        "id": "p1P8MrQ6RiNc"
      },
      "execution_count": null,
      "outputs": []
    },
    {
      "cell_type": "code",
      "source": [
        "num_classes = 10\n",
        "input_shape = (28, 28, 1)\n",
        "\n",
        "x_train = x_train.astype(\"float32\") / 255\n",
        "x_test = x_test.astype(\"float32\") / 255\n",
        "x_train = np.expand_dims(x_train, -1)\n",
        "x_test = np.expand_dims(x_test, -1)\n",
        "print(\"x_train shape:\", x_train.shape)\n",
        "print(x_train.shape[0], \"train samples\")\n",
        "print(x_test.shape[0], \"test samples\")\n",
        "\n",
        "\n",
        "# convert class vectors to binary class matrices\n",
        "y_train = keras.utils.to_categorical(y_train, num_classes)\n",
        "y_test = keras.utils.to_categorical(y_test, num_classes)"
      ],
      "metadata": {
        "colab": {
          "base_uri": "https://localhost:8080/"
        },
        "id": "AakUp5diI_4Q",
        "outputId": "e0cdf8bb-8bdc-4a09-d28e-b324e05bd4c7"
      },
      "execution_count": null,
      "outputs": [
        {
          "output_type": "stream",
          "name": "stdout",
          "text": [
            "x_train shape: (60000, 28, 28, 1, 1)\n",
            "60000 train samples\n",
            "10000 test samples\n"
          ]
        }
      ]
    },
    {
      "cell_type": "code",
      "source": [
        "model = keras.Sequential(\n",
        "    [\n",
        "        keras.Input(shape=input_shape),\n",
        "        layers.Conv2D(32, kernel_size=(3, 3), activation=\"relu\"),\n",
        "        layers.MaxPooling2D(pool_size=(2, 2)),\n",
        "        layers.Conv2D(64, kernel_size=(3, 3), activation=\"relu\"),\n",
        "        layers.MaxPooling2D(pool_size=(2, 2)),\n",
        "        layers.Flatten(),\n",
        "        layers.Dropout(0.5),\n",
        "        layers.Dense(num_classes, activation=\"softmax\"),\n",
        "    ]\n",
        ")\n",
        "\n",
        "model.summary()"
      ],
      "metadata": {
        "colab": {
          "base_uri": "https://localhost:8080/"
        },
        "id": "1QLXHvqsJtbi",
        "outputId": "fa1a925a-1ded-4d8e-d545-e75a53948911"
      },
      "execution_count": null,
      "outputs": [
        {
          "output_type": "stream",
          "name": "stdout",
          "text": [
            "Model: \"sequential_4\"\n",
            "_________________________________________________________________\n",
            " Layer (type)                Output Shape              Param #   \n",
            "=================================================================\n",
            " conv2d (Conv2D)             (None, 26, 26, 32)        320       \n",
            "                                                                 \n",
            " max_pooling2d (MaxPooling2  (None, 13, 13, 32)        0         \n",
            " D)                                                              \n",
            "                                                                 \n",
            " conv2d_1 (Conv2D)           (None, 11, 11, 64)        18496     \n",
            "                                                                 \n",
            " max_pooling2d_1 (MaxPoolin  (None, 5, 5, 64)          0         \n",
            " g2D)                                                            \n",
            "                                                                 \n",
            " flatten (Flatten)           (None, 1600)              0         \n",
            "                                                                 \n",
            " dropout (Dropout)           (None, 1600)              0         \n",
            "                                                                 \n",
            " dense_12 (Dense)            (None, 10)                16010     \n",
            "                                                                 \n",
            "=================================================================\n",
            "Total params: 34826 (136.04 KB)\n",
            "Trainable params: 34826 (136.04 KB)\n",
            "Non-trainable params: 0 (0.00 Byte)\n",
            "_________________________________________________________________\n"
          ]
        }
      ]
    },
    {
      "cell_type": "code",
      "source": [
        "batch_size = 128\n",
        "epochs = 15\n",
        "\n",
        "model.compile(loss=\"categorical_crossentropy\", optimizer=\"adam\", metrics=[\"accuracy\"])\n",
        "\n",
        "model.fit(x_train, y_train, batch_size=batch_size, epochs=epochs, validation_split=0.1)"
      ],
      "metadata": {
        "colab": {
          "base_uri": "https://localhost:8080/"
        },
        "id": "mI-07rUcJ6gC",
        "outputId": "5079d99f-2589-4039-b2d5-c0a4f0efa31b"
      },
      "execution_count": null,
      "outputs": [
        {
          "output_type": "stream",
          "name": "stdout",
          "text": [
            "Epoch 1/15\n",
            "422/422 [==============================] - 48s 108ms/step - loss: 1.5504 - accuracy: 0.5061 - val_loss: 0.5013 - val_accuracy: 0.8690\n",
            "Epoch 2/15\n",
            "422/422 [==============================] - 42s 100ms/step - loss: 0.5720 - accuracy: 0.8216 - val_loss: 0.3310 - val_accuracy: 0.9097\n",
            "Epoch 3/15\n",
            "422/422 [==============================] - 44s 105ms/step - loss: 0.4493 - accuracy: 0.8624 - val_loss: 0.2568 - val_accuracy: 0.9320\n",
            "Epoch 4/15\n",
            "422/422 [==============================] - 47s 113ms/step - loss: 0.3742 - accuracy: 0.8886 - val_loss: 0.2086 - val_accuracy: 0.9443\n",
            "Epoch 5/15\n",
            "422/422 [==============================] - 43s 103ms/step - loss: 0.3184 - accuracy: 0.9036 - val_loss: 0.1760 - val_accuracy: 0.9562\n",
            "Epoch 6/15\n",
            "422/422 [==============================] - 46s 110ms/step - loss: 0.2796 - accuracy: 0.9160 - val_loss: 0.1521 - val_accuracy: 0.9610\n",
            "Epoch 7/15\n",
            "422/422 [==============================] - 43s 102ms/step - loss: 0.2515 - accuracy: 0.9244 - val_loss: 0.1343 - val_accuracy: 0.9663\n",
            "Epoch 8/15\n",
            "422/422 [==============================] - 45s 106ms/step - loss: 0.2256 - accuracy: 0.9312 - val_loss: 0.1219 - val_accuracy: 0.9690\n",
            "Epoch 9/15\n",
            "422/422 [==============================] - 50s 119ms/step - loss: 0.2081 - accuracy: 0.9371 - val_loss: 0.1110 - val_accuracy: 0.9707\n",
            "Epoch 10/15\n",
            "422/422 [==============================] - 57s 135ms/step - loss: 0.1917 - accuracy: 0.9425 - val_loss: 0.1052 - val_accuracy: 0.9728\n",
            "Epoch 11/15\n",
            "422/422 [==============================] - 46s 109ms/step - loss: 0.1821 - accuracy: 0.9456 - val_loss: 0.0977 - val_accuracy: 0.9735\n",
            "Epoch 12/15\n",
            "422/422 [==============================] - 52s 123ms/step - loss: 0.1720 - accuracy: 0.9474 - val_loss: 0.0946 - val_accuracy: 0.9757\n",
            "Epoch 13/15\n",
            "422/422 [==============================] - 43s 102ms/step - loss: 0.1627 - accuracy: 0.9505 - val_loss: 0.0909 - val_accuracy: 0.9758\n",
            "Epoch 14/15\n",
            "422/422 [==============================] - 44s 105ms/step - loss: 0.1557 - accuracy: 0.9531 - val_loss: 0.0862 - val_accuracy: 0.9770\n",
            "Epoch 15/15\n",
            "422/422 [==============================] - 59s 140ms/step - loss: 0.1509 - accuracy: 0.9546 - val_loss: 0.0851 - val_accuracy: 0.9790\n"
          ]
        },
        {
          "output_type": "execute_result",
          "data": {
            "text/plain": [
              "<keras.src.callbacks.History at 0x79a930d50640>"
            ]
          },
          "metadata": {},
          "execution_count": 13
        }
      ]
    },
    {
      "cell_type": "code",
      "source": [
        "score = model.evaluate(x_test, y_test, verbose=0)\n",
        "print(\"Test loss:\", score[0])\n",
        "print(\"Test accuracy:\", score[1])"
      ],
      "metadata": {
        "colab": {
          "base_uri": "https://localhost:8080/"
        },
        "id": "Yt9iVEIuJ-Ks",
        "outputId": "d30ebc16-c11a-4ec3-83b5-2670f8c86d6e"
      },
      "execution_count": null,
      "outputs": [
        {
          "output_type": "stream",
          "name": "stdout",
          "text": [
            "Test loss: 0.09225337952375412\n",
            "Test accuracy: 0.9732000231742859\n"
          ]
        }
      ]
    },
    {
      "cell_type": "code",
      "source": [],
      "metadata": {
        "id": "9GnSqMxCKof3"
      },
      "execution_count": null,
      "outputs": []
    },
    {
      "cell_type": "code",
      "source": [],
      "metadata": {
        "id": "PIleEAcZQrYH"
      },
      "execution_count": null,
      "outputs": []
    }
  ]
}